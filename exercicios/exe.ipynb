{
 "cells": [
  {
   "cell_type": "markdown",
   "metadata": {},
   "source": [
    "> EXE 01\n",
    "\n",
    "carregue o conjunto de dados gasolina 2000 e 2010 em df diferentes e depois os una em um so."
   ]
  },
  {
   "cell_type": "code",
   "execution_count": 2,
   "metadata": {},
   "outputs": [],
   "source": [
    "import pandas as pd"
   ]
  },
  {
   "cell_type": "code",
   "execution_count": null,
   "metadata": {},
   "outputs": [],
   "source": [
    "import pandas as pd\n",
    "\n",
    "df_gas_2000 = pd.read_csv('exercicios/gasolina_2000+.csv', sep=',', index_col=0)\n",
    "\n",
    "df_gas_2010 = pd.read_csv('exercicios/gasolina_2010+.csv', sep=',', index_col=0)\n",
    "\n",
    "# apenas para ver todas as colunas quando der print\n",
    "pd.set_option('display.max_columns', None)\n",
    "\n",
    "# Ultilizo para ver todas as colunas  e verificar se são iguais nos 2 dfs\n",
    "print(df_gas_2010.columns)\n",
    "\n",
    "print(df_gas_2000.columns)\n",
    "\n",
    "# volto para configuração padrão\n",
    "pd.reset_option('display.max_columns')\n",
    "\n",
    "# Como os df possuem colunas iguais posso concatenalos assim o df 2010 se iniciara assim que o de 2000\n",
    "# acabar um ficara embaixo do outro e ultilizaram as mesmas colunas.\n",
    "df_gas_completo = pd.concat([df_gas_2000, df_gas_2010 ], axis=0)\n",
    "\n",
    "# Salvo o meu df_gas_completo em um csv so trocarei a peração de ',' para ';'\n",
    "df_gas_completo.to_csv('exercicios/gasolina_completo.csv', sep=';', decimal='.')"
   ]
  },
  {
   "cell_type": "markdown",
   "metadata": {},
   "source": [
    "> EXE 02\n",
    "\n",
    "Investigue as colunas e entenda o conjunto de dados usando o head ( ) e info ( )"
   ]
  },
  {
   "cell_type": "code",
   "execution_count": null,
   "metadata": {},
   "outputs": [],
   "source": [
    "# Ativo apenas para verificar todas as colunas\n",
    "pd.set_option('display.max_columns', None)\n",
    "\n",
    "# Visualizo as primeiras linhas do meu df\n",
    "df_gas_completo.head\n",
    "\n",
    "# verifico somente os nomes das colunas \n",
    "df_gas_completo.columns\n",
    "\n",
    "# verifico o nome de cada indice\n",
    "df_gas_completo.index"
   ]
  },
  {
   "cell_type": "markdown",
   "metadata": {},
   "source": [
    "Verifico os primeiros valores de cada uma das colunas, os nomes de cada coluna o total de linhas e de colunas presentes no df."
   ]
  },
  {
   "cell_type": "code",
   "execution_count": null,
   "metadata": {},
   "outputs": [],
   "source": [
    "df_gas_completo.info()"
   ]
  },
  {
   "cell_type": "markdown",
   "metadata": {},
   "source": [
    "Posso verificar as seguintes informações com o metodo .info\n",
    "\n",
    "- A classe do meu df = class 'pandas.core.frame.DataFrame\n",
    "- A quantidade de linhas 120823\n",
    "- O total de colunas\n",
    "- O nome de cada coluna \n",
    "- Se a coluna recebe valores nulos ou não \n",
    "- O tipo de cada atributo ex: float, int, object \n",
    "- A quantidade de cada tipo de atributo\n",
    "- O quanto de memoria esta sendo usado pelo arquivo "
   ]
  },
  {
   "cell_type": "markdown",
   "metadata": {},
   "source": [
    "> EXE 03 \n",
    "\n",
    "Selecione a terceira entrada da coluna DATA INICIAL e verifique o seu tipo."
   ]
  },
  {
   "cell_type": "code",
   "execution_count": null,
   "metadata": {},
   "outputs": [],
   "source": [
    "print(df_gas_completo.loc[[2], 'DATA INICIAL'])\n",
    "\n",
    "# 2    2004-05-09\n",
    "\n",
    "Name: DATA INICIAL, dtype: object"
   ]
  },
  {
   "cell_type": "markdown",
   "metadata": {},
   "source": [
    "Seleciono apenas o terceiro indice da coluna DATA INICIAL"
   ]
  },
  {
   "cell_type": "markdown",
   "metadata": {},
   "source": [
    "> EXE 04\n",
    "\n",
    "Converta os valores das colunas DATA INICIAL E FINAL para o formato de datas elas estão em formato de string(object)"
   ]
  },
  {
   "cell_type": "code",
   "execution_count": null,
   "metadata": {},
   "outputs": [],
   "source": [
    "df_gas_completo['DATA INICIAL'] = pd.to_datetime(df_gas_completo['DATA INICIAL'], errors='coerce')\n",
    "\n",
    "df_gas_completo['DATA FINAL'] = pd.to_datetime(df_gas_completo['DATA FINAL'], errors='coerce')"
   ]
  },
  {
   "cell_type": "markdown",
   "metadata": {},
   "source": [
    "Troco os tipos de de cada coluna de object para datetime"
   ]
  },
  {
   "cell_type": "markdown",
   "metadata": {},
   "source": [
    "> EXE 05\n",
    "\n",
    "Crie uma nova coluna para representar o ano e o mês(aaaa-mm), utilizando a coluna DATA FINAL como referência. "
   ]
  },
  {
   "cell_type": "code",
   "execution_count": null,
   "metadata": {},
   "outputs": [],
   "source": [
    "# Me certifico de que a coluna seja do tipo datetime\n",
    "\n",
    "df_gas_completo['DATA FINAL'] = pd.to_datetime(df_gas_completo['DATA FINAL'], errors='coerce')\n",
    "\n",
    "# Retiro apenas o ano da data\n",
    "df_gas_completo['ANO FINAL'] = df_gas_completo['DATA FINAL'].dt.year\n",
    "\n",
    "# Retiro apenas o mes da data\n",
    "df_gas_completo['MES FINAL'] = df_gas_completo['DATA FINAL'].dt.month\n",
    "\n",
    "# Apenas verifico se os meses correspondem a Data final, faço a mesma coisa para o ano\n",
    "df_gas_completo[['MES FINAL', 'DATA FINAL']]"
   ]
  },
  {
   "cell_type": "markdown",
   "metadata": {},
   "source": [
    "Digo que a minha coluna ANO FINAL e a Minha coluna DATA FINAL porém somente so uso o ano(year) como parametro\n",
    "por isso o (.dt.year) estou retirando apenas o ano da minha coluna, por isso ela precisa estar no formato datetime."
   ]
  },
  {
   "cell_type": "markdown",
   "metadata": {},
   "source": [
    "> EXE 06\n",
    "\n",
    "Ultilizando o value_counts() liste todos os tipos de produtos contidos na base dados"
   ]
  },
  {
   "cell_type": "code",
   "execution_count": null,
   "metadata": {},
   "outputs": [],
   "source": [
    "# seleciono a coluna e aplico o metodo\n",
    "\n",
    "df_gas_completo['PRODUTO'].value_counts()"
   ]
  },
  {
   "cell_type": "markdown",
   "metadata": {},
   "source": [
    "Indico o df e a coluna que foram pedidos, em seguida aplico o metodo .value_counts para contar a frequência de valores únicos em uma Series (uma coluna de um DataFrame), dessa maneira posso saber quantas vezes cada valor unico aparece na minha coluna, ex o produto ETANOL HIDRATADO aparece 23440 vezes "
   ]
  },
  {
   "cell_type": "markdown",
   "metadata": {},
   "source": [
    "> EXE 07 \n",
    "\n",
    "Filtre o df para obter apenas dados da 'GASOLINA COMUM' e grave em uma variavel."
   ]
  },
  {
   "cell_type": "code",
   "execution_count": null,
   "metadata": {},
   "outputs": [],
   "source": [
    "# Aplico um filtro para retornar todas as colunas quando o indice da coluna PRODUTO for igual a GASOLINA COMUM\n",
    "\n",
    "gasolina_comum = df_gas_completo.loc[df_gas_completo['PRODUTO'] == 'GASOLINA COMUM', :]"
   ]
  },
  {
   "cell_type": "markdown",
   "metadata": {},
   "source": [
    "Tentei ultilizar apenas o loc para retornar os valores porém ele so funciona em valores unicos, então apliquei um filtro pedi para me retornar um df toda vez que o Valor da coluna PRODUTO for igual GASOLINA COMUM e ultilizei os 2 pontos depois da virgula para retornar todas as colunas. No fim salvei tudo em uma variavel como foi pedido, nela contem um df com todos os indices sendo GASOLINA COMUM e contém todas as colunas do df original."
   ]
  },
  {
   "cell_type": "markdown",
   "metadata": {},
   "source": [
    "> EXE 08\n",
    "\n",
    "Qual o preço medio da revenda da gasolina em agostoi de 2008"
   ]
  }
 ],
 "metadata": {
  "kernelspec": {
   "display_name": "Python 3",
   "language": "python",
   "name": "python3"
  },
  "language_info": {
   "codemirror_mode": {
    "name": "ipython",
    "version": 3
   },
   "file_extension": ".py",
   "mimetype": "text/x-python",
   "name": "python",
   "nbconvert_exporter": "python",
   "pygments_lexer": "ipython3",
   "version": "3.13.1"
  }
 },
 "nbformat": 4,
 "nbformat_minor": 2
}
